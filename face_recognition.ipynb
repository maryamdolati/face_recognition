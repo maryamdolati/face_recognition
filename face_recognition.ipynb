{
  "nbformat": 4,
  "nbformat_minor": 0,
  "metadata": {
    "colab": {
      "provenance": []
    },
    "kernelspec": {
      "name": "python3",
      "display_name": "Python 3"
    },
    "language_info": {
      "name": "python"
    }
  },
  "cells": [
    {
      "cell_type": "code",
      "source": [
        "!pip install opencv-python"
      ],
      "metadata": {
        "colab": {
          "base_uri": "https://localhost:8080/"
        },
        "id": "7fUzTwSbPnjD",
        "outputId": "ed0530b8-8f13-4dca-e23b-fafcec1bd312"
      },
      "execution_count": null,
      "outputs": [
        {
          "output_type": "stream",
          "name": "stdout",
          "text": [
            "Looking in indexes: https://pypi.org/simple, https://us-python.pkg.dev/colab-wheels/public/simple/\n",
            "Requirement already satisfied: opencv-python in /usr/local/lib/python3.9/dist-packages (4.7.0.72)\n",
            "Requirement already satisfied: numpy>=1.19.3 in /usr/local/lib/python3.9/dist-packages (from opencv-python) (1.22.4)\n"
          ]
        }
      ]
    },
    {
      "cell_type": "code",
      "source": [
        "from google.colab import drive\n",
        "drive.mount('/content/drive')\n",
        "\n"
      ],
      "metadata": {
        "colab": {
          "base_uri": "https://localhost:8080/"
        },
        "id": "VXNsiQ00RGDM",
        "outputId": "16e61fe5-b84f-4419-fbb9-30d5c3365971"
      },
      "execution_count": null,
      "outputs": [
        {
          "output_type": "stream",
          "name": "stdout",
          "text": [
            "Mounted at /content/drive\n"
          ]
        }
      ]
    },
    {
      "cell_type": "code",
      "source": [
        "import cv2 as cv\n",
        "\n",
        "\n",
        "faceXML = cv.CascadeClassifier('/content/drive/MyDrive/haarcascade_frontalface_default.xml')\n",
        "eyeXML = cv.CascadeClassifier('/content/drive/MyDrive/haarcascade_eye.xml')\n",
        "\n",
        "cap = cv.VideoCapture(1)\n",
        "\n",
        "if not cap.isOpened():\n",
        "    print(\"Cannot open camera\")\n",
        "    exit()\n",
        "\n",
        "while True:\n",
        "    ret, frame = cap.read()\n",
        "\n",
        "    if not ret:\n",
        "        print(\"Can't receive frame (stream end?). Exiting ...\")\n",
        "        break\n",
        "\n",
        "    gray = cv.cvtColor(frame, cv.COLOR_BGR2GRAY)\n",
        "    faces = faceXML.detectMultiScale(gray)\n",
        "\n",
        "    for (x, y, w, h) in faces:\n",
        "        cv.rectangle(frame, (x,y), (x+w, y+h), (255, 0, 0), 2)\n",
        "        roi_gray = gray[y: y+h, x: x+w]\n",
        "        roi_color = frame[y: y+h, x: x+w]\n",
        "        eyes = eyeXML.detectMultiScale(roi_gray)\n",
        "        for (ex, ey, ew, eh) in eyes:  #Eyes in each face\n",
        "            cv.rectangle(roi_color, (ex,ey), (ex+ew, ey+eh), (0, 0, 255), 2)\n",
        "\n",
        "    cv.imshow('face', frame)\n",
        "    if cv.waitKey(1) & 0xFF==ord('q'):\n",
        "        break \n",
        "\n",
        "cap.release()\n",
        "cv.destroyAllWindows()"
      ],
      "metadata": {
        "colab": {
          "base_uri": "https://localhost:8080/"
        },
        "id": "lmJA-u8GSyOr",
        "outputId": "d58ed800-b423-49f4-93ff-06c8599481e3"
      },
      "execution_count": null,
      "outputs": [
        {
          "output_type": "stream",
          "name": "stdout",
          "text": [
            "Cannot open camera\n",
            "Can't receive frame (stream end?). Exiting ...\n"
          ]
        }
      ]
    }
  ]
}